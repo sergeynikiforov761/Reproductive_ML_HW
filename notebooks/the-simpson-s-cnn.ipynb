{
  "cells": [
    {
      "cell_type": "code",
      "execution_count": null,
      "outputs": [],
      "source": "# запускать ноутбук необхожимо из корневой папки проетка. В случае запуска из директории с ноутбуком, выполнить:\n# cd ..",
      "metadata": {
        "pycharm": {
          "metadata": false,
          "name": "#%%\n"
        }
      }
    },
    {
      "cell_type": "code",
      "execution_count": null,
      "outputs": [],
      "source": "import glob\n\nfrom keras.utils.np_utils import to_categorical  # convert to one-hot-encoding\n\n%matplotlib inline\n\nfrom src.data import *\nfrom src.model import runAnotherKerasAugmented\nfrom src.plot import *",
      "metadata": {
        "pycharm": {
          "metadata": false,
          "name": "#%%\n"
        }
      }
    },
    {
      "cell_type": "markdown",
      "source": "## Примеры изображений",
      "metadata": {
        "pycharm": {
          "metadata": false
        }
      }
    },
    {
      "cell_type": "code",
      "execution_count": null,
      "outputs": [],
      "source": "# Plot Image\nconfig \u003d load_yaml(\u0027./params.yaml\u0027)\n\ntest_dir \u003d config[\u0027test_set_dir\u0027]\ntrain_dir \u003d config[\u0027train_set_dir\u0027]\nnum_classes \u003d config[\u0027num_claases\u0027]\nimg_size \u003d config[\u0027img_size\u0027]\n\nimage_name \u003d test_dir + \"/lisa_simpson_18.jpg\" #Image to be used as query\nplot_character(image_name)",
      "metadata": {
        "pycharm": {
          "metadata": false,
          "name": "#%%\n"
        }
      }
    },
    {
      "cell_type": "code",
      "execution_count": null,
      "outputs": [],
      "source": "# Plot Multiple Images\nsimpsons \u003d glob.glob(test_dir + \u0027/**\u0027)\nplot_test_images(simpsons)",
      "metadata": {
        "pycharm": {
          "metadata": false,
          "name": "#%%\n"
        }
      }
    },
    {
      "cell_type": "markdown",
      "source": "## Загрузка Данных",
      "metadata": {
        "pycharm": {
          "metadata": false
        }
      }
    },
    {
      "cell_type": "code",
      "execution_count": null,
      "outputs": [],
      "source": "# Load and Compress/Resize Test Data\ndict_characters \u003d {0: \u0027abraham_grampa_simpson\u0027, 1: \u0027apu_nahasapeemapetilon\u0027, 2: \u0027bart_simpson\u0027, \n        3: \u0027charles_montgomery_burns\u0027, 4: \u0027chief_wiggum\u0027, 5: \u0027comic_book_guy\u0027, 6: \u0027edna_krabappel\u0027, \n        7: \u0027homer_simpson\u0027, 8: \u0027kent_brockman\u0027, 9: \u0027krusty_the_clown\u0027, 10: \u0027lenny_leonard\u0027, 11:\u0027lisa_simpson\u0027,\n        12: \u0027marge_simpson\u0027, 13: \u0027mayor_quimby\u0027,14:\u0027milhouse_van_houten\u0027, 15: \u0027moe_szyslak\u0027, \n        16: \u0027ned_flanders\u0027, 17: \u0027nelson_muntz\u0027, 18: \u0027principal_skinner\u0027, 19: \u0027sideshow_bob\u0027}",
      "metadata": {
        "pycharm": {
          "metadata": false,
          "name": "#%%\n"
        }
      }
    },
    {
      "cell_type": "code",
      "execution_count": null,
      "outputs": [],
      "source": "# Split data for cross validation\nX_test, Y_test \u003d load_test_set(test_dir, dict_characters, img_size) \nX_train, Y_train \u003d load_train_set(train_dir, dict_characters, img_size)       \n# Reduce Sample Size for DeBugging \nX_train \u003d X_train[0:3000] \nY_train \u003d Y_train[0:3000]\nX_test \u003d X_test[0:1000] \nY_test \u003d Y_test[0:1000]\nprint(\"Training Data Shape:\", X_train.shape, X_train.shape)\nprint(\"Testing Data Shape:\", X_test.shape, X_test.shape)\n# Encode labels to hot vectors (ex : 2 -\u003e [0,0,1,0,0,0,0,0,0,0])\nY_train \u003d to_categorical(Y_train, num_classes \u003d num_classes)\nY_test \u003d to_categorical(Y_test, num_classes \u003d num_classes)\n",
      "metadata": {
        "pycharm": {
          "metadata": false,
          "name": "#%%\n"
        }
      }
    },
    {
      "cell_type": "markdown",
      "source": "## Обучение Модели",
      "metadata": {
        "pycharm": {
          "metadata": false
        }
      }
    },
    {
      "cell_type": "code",
      "execution_count": null,
      "outputs": [],
      "source": "runAnotherKerasAugmented(X_train, Y_train, X_test, Y_test,dict_characters)",
      "metadata": {
        "pycharm": {
          "metadata": false,
          "name": "#%%\n"
        }
      }
    },
    {
      "cell_type": "code",
      "execution_count": null,
      "outputs": [],
      "source": "image_name \u003d test_dir + \"/milhouse_van_houten_46.jpg\" #Image to be used as query\nplot_character(image_name)",
      "metadata": {
        "pycharm": {
          "metadata": false,
          "name": "#%%\n"
        }
      }
    }
  ],
  "metadata": {
    "kernelspec": {
      "display_name": "Python 3",
      "language": "python",
      "name": "python3"
    },
    "language_info": {
      "codemirror_mode": {
        "name": "ipython",
        "version": 3
      },
      "file_extension": ".py",
      "mimetype": "text/x-python",
      "name": "python",
      "nbconvert_exporter": "python",
      "pygments_lexer": "ipython3",
      "version": "3.8.5"
    },
    "stem_cell": {
      "cell_type": "raw",
      "source": "",
      "metadata": {
        "pycharm": {
          "metadata": false
        }
      }
    }
  },
  "nbformat": 4,
  "nbformat_minor": 4
}