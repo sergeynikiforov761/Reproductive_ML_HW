{
  "cells": [
    {
      "cell_type": "code",
      "execution_count": null,
      "outputs": [],
      "source": "# запускать ноутбук необхожимо из папки src в корневой папке проетка. В случае запуска из директории с ноутбуком, выполнить:\n# % cd ../src",
      "metadata": {
        "pycharm": {
          "metadata": false,
          "name": "#%%\n"
        }
      }
    },
    {
      "cell_type": "code",
      "execution_count": null,
      "outputs": [],
      "source": "import glob\n\nfrom keras.utils.np_utils import to_categorical  # convert to one-hot-encoding\n\n%matplotlib inline\n\nfrom data import *\nfrom model import run_another_keras_augmented\nfrom plot import *",
      "metadata": {
        "pycharm": {
          "metadata": false,
          "name": "#%%\n"
        }
      }
    },
    {
      "cell_type": "markdown",
      "source": "## Примеры изображений",
      "metadata": {
        "pycharm": {
          "metadata": false
        }
      }
    },
    {
      "cell_type": "code",
      "execution_count": null,
      "outputs": [],
      "source": "# Plot Image\nconfig \u003d load_yaml(\u0027../params.yaml\u0027)\n\ntest_dir \u003d \"../\" + config[\u0027test_set_dir\u0027]\ntrain_dir \u003d \"../\" + config[\u0027train_set_dir\u0027]\nnum_classes \u003d config[\u0027num_claases\u0027]\nimg_size \u003d config[\u0027img_size\u0027]\nmodel_save_weights_dir \u003d config[\u0027model_weights_save_dir\u0027]\nmodel_save_dir \u003d config[\u0027model_save_dir\u0027]\n\nimage_name \u003d test_dir + \"/lisa_simpson_18.jpg\" #Image to be used as query\nplot_character(image_name)",
      "metadata": {
        "pycharm": {
          "metadata": false,
          "name": "#%%\n"
        }
      }
    },
    {
      "cell_type": "code",
      "execution_count": null,
      "outputs": [],
      "source": "# Plot Multiple Images\nsimpsons \u003d glob.glob(test_dir + \u0027/**\u0027)\nplot_test_images(simpsons)",
      "metadata": {
        "pycharm": {
          "metadata": false,
          "name": "#%%\n"
        }
      }
    },
    {
      "cell_type": "markdown",
      "source": "## Загрузка Данных",
      "metadata": {
        "pycharm": {
          "metadata": false
        }
      }
    },
    {
      "cell_type": "code",
      "execution_count": null,
      "outputs": [],
      "source": "X_train, Y_train \u003d generate_data(train_dir, img_size, num_classes, 3000, True)\nX_test, Y_test \u003d generate_data(test_dir, img_size, num_classes, 1000, False)\nprint(\"Training Data Shape:\", X_train.shape, X_train.shape)\nprint(\"Testing Data Shape:\", X_test.shape, X_test.shape)\n",
      "metadata": {
        "pycharm": {
          "metadata": false,
          "name": "#%%\n"
        }
      }
    },
    {
      "cell_type": "markdown",
      "source": "## Обучение Модели",
      "metadata": {
        "pycharm": {
          "metadata": false
        }
      }
    },
    {
      "cell_type": "code",
      "execution_count": null,
      "outputs": [],
      "source": "model \u003d run_another_keras_augmented(X_train, Y_train, X_test, Y_test,dict_characters)\nmodel.save(model_save_dir)\nmodel.save_weights(model_save_weights_dir)",
      "metadata": {
        "pycharm": {
          "metadata": false,
          "name": "#%%\n"
        }
      }
    },
    {
      "cell_type": "code",
      "execution_count": null,
      "outputs": [],
      "source": "image_name \u003d test_dir + \"/milhouse_van_houten_46.jpg\" #Image to be used as query\nplot_character(image_name)",
      "metadata": {
        "pycharm": {
          "metadata": false,
          "name": "#%%\n"
        }
      }
    }
  ],
  "metadata": {
    "kernelspec": {
      "display_name": "Python 3",
      "language": "python",
      "name": "python3"
    },
    "language_info": {
      "codemirror_mode": {
        "name": "ipython",
        "version": 3
      },
      "file_extension": ".py",
      "mimetype": "text/x-python",
      "name": "python",
      "nbconvert_exporter": "python",
      "pygments_lexer": "ipython3",
      "version": "3.8.5"
    },
    "stem_cell": {
      "cell_type": "raw",
      "source": "",
      "metadata": {
        "pycharm": {
          "metadata": false
        }
      }
    }
  },
  "nbformat": 4,
  "nbformat_minor": 4
}